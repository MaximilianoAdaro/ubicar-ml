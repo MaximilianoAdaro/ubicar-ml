{
  "cells": [
    {
      "cell_type": "markdown",
      "metadata": {
        "id": "view-in-github",
        "colab_type": "text"
      },
      "source": [
        "<a href=\"https://colab.research.google.com/github/MaximilianoAdaro/ubicar-ml/blob/newBranch/MaxiLocal_AlgoDynamic.ipynb\" target=\"_parent\"><img src=\"https://colab.research.google.com/assets/colab-badge.svg\" alt=\"Open In Colab\"/></a>"
      ]
    },
    {
      "cell_type": "code",
      "source": [
        "runningWithColab = False"
      ],
      "metadata": {
        "id": "sbWjgEESLZ4P"
      },
      "execution_count": 74,
      "outputs": []
    },
    {
      "cell_type": "code",
      "execution_count": 75,
      "metadata": {
        "id": "05ooZauUk9hx"
      },
      "outputs": [],
      "source": [
        "if runningWithColab:\n",
        "  from google.colab import drive\n",
        "  drive.mount('/content/drive')"
      ]
    },
    {
      "cell_type": "code",
      "execution_count": 76,
      "metadata": {
        "id": "DsCeA979gv9-"
      },
      "outputs": [],
      "source": [
        "if runningWithColab:\n",
        "  !pip install -q condacolab -q #por alguna razon hay que correr esto que hacer tardar 10mins... idk\n",
        "  import condacolab\n",
        "  condacolab.install()\n",
        "  !conda install geopandas"
      ]
    },
    {
      "cell_type": "code",
      "execution_count": 77,
      "metadata": {
        "id": "9lPrY7yvlMkv",
        "colab": {
          "base_uri": "https://localhost:8080/"
        },
        "outputId": "36019022-ba91-40f1-ed95-44f44c199ade"
      },
      "outputs": [
        {
          "output_type": "stream",
          "name": "stdout",
          "text": [
            "Requirement already satisfied: geopandas in ./.local/lib/python3.8/site-packages (0.10.2)\r\n",
            "Requirement already satisfied: shapely>=1.6 in ./.local/lib/python3.8/site-packages (from geopandas) (1.8.0)\r\n",
            "Requirement already satisfied: pandas>=0.25.0 in /usr/local/lib/python3.8/dist-packages (from geopandas) (1.2.4)\n",
            "Requirement already satisfied: pyproj>=2.2.0 in /usr/lib/python3/dist-packages (from geopandas) (2.5.0)\n",
            "Requirement already satisfied: fiona>=1.8 in ./.local/lib/python3.8/site-packages (from geopandas) (1.8.20)\n",
            "Requirement already satisfied: pytz>=2017.3 in /usr/lib/python3/dist-packages (from pandas>=0.25.0->geopandas) (2019.3)\n",
            "Requirement already satisfied: python-dateutil>=2.7.3 in /usr/lib/python3/dist-packages (from pandas>=0.25.0->geopandas) (2.7.3)\n",
            "Requirement already satisfied: numpy>=1.16.5 in /usr/lib/python3/dist-packages (from pandas>=0.25.0->geopandas) (1.17.4)\n",
            "Requirement already satisfied: click-plugins>=1.0 in ./.local/lib/python3.8/site-packages (from fiona>=1.8->geopandas) (1.1.1)\n",
            "Requirement already satisfied: click>=4.0 in /usr/lib/python3/dist-packages (from fiona>=1.8->geopandas) (7.0)\n",
            "Requirement already satisfied: certifi in /usr/lib/python3/dist-packages (from fiona>=1.8->geopandas) (2019.11.28)\n",
            "Requirement already satisfied: attrs>=17 in /usr/lib/python3/dist-packages (from fiona>=1.8->geopandas) (19.3.0)\n",
            "Requirement already satisfied: six>=1.7 in /usr/lib/python3/dist-packages (from fiona>=1.8->geopandas) (1.14.0)\n",
            "Requirement already satisfied: setuptools in /usr/lib/python3/dist-packages (from fiona>=1.8->geopandas) (45.2.0)\n",
            "Requirement already satisfied: munch in ./.local/lib/python3.8/site-packages (from fiona>=1.8->geopandas) (2.5.0)\n",
            "Requirement already satisfied: cligj>=0.5 in ./.local/lib/python3.8/site-packages (from fiona>=1.8->geopandas) (0.7.2)\n",
            "Requirement already satisfied: rtree in ./.local/lib/python3.8/site-packages (0.9.7)\n",
            "Requirement already satisfied: pygeos in ./.local/lib/python3.8/site-packages (0.12.0)\n",
            "Requirement already satisfied: numpy>=1.13 in /usr/lib/python3/dist-packages (from pygeos) (1.17.4)\n",
            "Requirement already satisfied: pyshp in ./.local/lib/python3.8/site-packages (2.1.3)\n",
            "Requirement already satisfied: matplotlib in /usr/lib/python3/dist-packages (3.1.2)\n"
          ]
        }
      ],
      "source": [
        "!pip install geopandas\n",
        "!pip install rtree\n",
        "!pip install pygeos\n",
        "!pip install pyshp\n",
        "!pip install matplotlib"
      ]
    },
    {
      "cell_type": "code",
      "execution_count": 78,
      "metadata": {
        "id": "wqlMR6vsdjyu"
      },
      "outputs": [],
      "source": [
        "import geopandas as gpd\n",
        "import numpy as np\n",
        "from geopandas import GeoDataFrame\n",
        "import pandas as pd\n",
        "import pyproj\n",
        "from shapely.ops import linemerge, unary_union, polygonize, transform\n",
        "from shapely.geometry import LineString, Polygon, Point, box, shape\n",
        "from functools import partial\n",
        "from matplotlib import pyplot as plt\n",
        "from pyproj import Geod\n",
        "from shapely import wkt, affinity"
      ]
    },
    {
      "cell_type": "code",
      "source": [
        "shapePath = \"~/Downloads/ubicar/dynamic/polygon.shp\"\n",
        "propsPath = \"~/Downloads/ubicar/dynamic/maxi-data-final.csv\""
      ],
      "metadata": {
        "id": "GGogbUghVffz"
      },
      "execution_count": 79,
      "outputs": []
    },
    {
      "cell_type": "code",
      "execution_count": 80,
      "metadata": {
        "id": "6dHOE_jBkveI"
      },
      "outputs": [],
      "source": [
        "shapeDF = gpd.read_file(shapePath)\n",
        "propsDf = pd.read_csv(propsPath) \n",
        "\n",
        "#shapeDF = gpd.read_file(\"drive/MyDrive/Ubicar/ShapeFiles/Simplified/polygon.shp\")\n",
        "#propsDf = pd.read_csv('drive/MyDrive/Ubicar/CSV data/newData/maxi-data-final.csv') "
      ]
    },
    {
      "cell_type": "code",
      "source": [
        "shapeDF.type"
      ],
      "metadata": {
        "colab": {
          "base_uri": "https://localhost:8080/"
        },
        "id": "b0yMmMAEVIat",
        "outputId": "ebe66abf-f9b5-42c8-eb04-3f714f90604f"
      },
      "execution_count": 81,
      "outputs": [
        {
          "output_type": "execute_result",
          "data": {
            "text/plain": [
              "0    Polygon\n",
              "dtype: object"
            ]
          },
          "metadata": {},
          "execution_count": 81
        }
      ]
    },
    {
      "cell_type": "code",
      "source": [
        "plot = False\n",
        "\n",
        "if (plot):\n",
        "  import shapefile as shp  # Requires the pyshp package\n",
        "  import matplotlib.pyplot as plt\n",
        "\n",
        "  sf = shp.Reader(shapePath)\n",
        "\n",
        "  plt.figure()\n",
        "  for shape in sf.shapeRecords():\n",
        "      x = [i[0] for i in shape.shape.points[:]]\n",
        "      y = [i[1] for i in shape.shape.points[:]]\n",
        "      plt.plot(x,y)\n",
        "  plt.show()"
      ],
      "metadata": {
        "id": "eR_s972KCCdp"
      },
      "execution_count": 82,
      "outputs": []
    },
    {
      "cell_type": "code",
      "source": [
        "if plot:\n",
        "  import shapefile as shp  # Requires the pyshp package\n",
        "  import matplotlib.pyplot as plt\n",
        "\n",
        "  sf = shp.Reader(shapePath)"
      ],
      "metadata": {
        "id": "nI3AkIkeVMy2"
      },
      "execution_count": 83,
      "outputs": []
    },
    {
      "cell_type": "code",
      "execution_count": 84,
      "metadata": {
        "id": "Nr7H2LVIjxy0"
      },
      "outputs": [],
      "source": [
        "propsDf['priceM2'] = propsDf.apply(lambda row: row.price/ row.surface_total, axis=1)"
      ]
    },
    {
      "cell_type": "code",
      "source": [
        "propsDf[propsDf['priceM2'] < 30]"
      ],
      "metadata": {
        "colab": {
          "base_uri": "https://localhost:8080/",
          "height": 359
        },
        "id": "D_JstpWMyAdM",
        "outputId": "390ebb17-f043-4d83-d500-868b5430ddda"
      },
      "execution_count": 85,
      "outputs": [
        {
          "output_type": "execute_result",
          "data": {
            "text/plain": [
              "        Unnamed: 0                        id  start_date    end_date  \\\n",
              "37425        11389  rmHp7ad/j1FlFizjBUWv1g==  2020-11-21  2020-12-02   \n",
              "112235       70094  ld3akTBeZXUg3tEMaYSVSg==  2020-06-27  2020-07-02   \n",
              "121902       81935  AA8p2Rz/e/oMAtpUUk1aig==  2021-03-10  2021-06-05   \n",
              "121903      124117  zfIJR+/46uZA1DD/bv0EYw==  2021-03-10  2021-06-05   \n",
              "150102      123378  DTvEI4FVhcZpuTQYfHbWEg==  2020-06-07  2021-04-09   \n",
              "\n",
              "        created_on        lat        lon         l1               l2  \\\n",
              "37425   2020-11-21 -31.493757 -64.568710  Argentina          Córdoba   \n",
              "112235  2020-06-27 -31.692425 -64.414586  Argentina          Córdoba   \n",
              "121902  2021-03-10 -34.594247 -58.397759  Argentina  Capital Federal   \n",
              "121903  2021-03-10 -34.594247 -58.397759  Argentina  Capital Federal   \n",
              "150102  2020-06-07 -24.773918 -65.390045  Argentina            Salta   \n",
              "\n",
              "                 l3  ...  dTrainStation   dUniversity  departamento_id  \\\n",
              "37425       Punilla  ...   20791.796517  34971.709211            14091   \n",
              "112235  Santa María  ...    5258.401334  32289.413363            14147   \n",
              "121902     Recoleta  ...    1544.287984    390.525678             2014   \n",
              "121903     Recoleta  ...    1544.287984    390.525678             2014   \n",
              "150102        Salta  ...    3262.185093   2614.010046            66028   \n",
              "\n",
              "        departamento_nombre municipio_id     municipio_nombre provincia_id  \\\n",
              "37425               Punilla     142546.0  Villa Río Icho Cruz           14   \n",
              "112235          Santa María     142987.0            Anisacate           14   \n",
              "121902             Comuna 2          NaN                  NaN            2   \n",
              "121903             Comuna 2          NaN                  NaN            2   \n",
              "150102              Capital     660063.0                Salta           66   \n",
              "\n",
              "                       provincia_nombre     dSubway    priceM2  \n",
              "37425                           Córdoba         NaN  23.650794  \n",
              "112235                          Córdoba         NaN  27.222222  \n",
              "121902  Ciudad Autónoma de Buenos Aires  885.431097  23.051867  \n",
              "121903  Ciudad Autónoma de Buenos Aires  885.431097  23.051867  \n",
              "150102                            Salta         NaN  22.401210  \n",
              "\n",
              "[5 rows x 37 columns]"
            ],
            "text/html": [
              "<div>\n",
              "<style scoped>\n",
              "    .dataframe tbody tr th:only-of-type {\n",
              "        vertical-align: middle;\n",
              "    }\n",
              "\n",
              "    .dataframe tbody tr th {\n",
              "        vertical-align: top;\n",
              "    }\n",
              "\n",
              "    .dataframe thead th {\n",
              "        text-align: right;\n",
              "    }\n",
              "</style>\n",
              "<table border=\"1\" class=\"dataframe\">\n",
              "  <thead>\n",
              "    <tr style=\"text-align: right;\">\n",
              "      <th></th>\n",
              "      <th>Unnamed: 0</th>\n",
              "      <th>id</th>\n",
              "      <th>start_date</th>\n",
              "      <th>end_date</th>\n",
              "      <th>created_on</th>\n",
              "      <th>lat</th>\n",
              "      <th>lon</th>\n",
              "      <th>l1</th>\n",
              "      <th>l2</th>\n",
              "      <th>l3</th>\n",
              "      <th>...</th>\n",
              "      <th>dTrainStation</th>\n",
              "      <th>dUniversity</th>\n",
              "      <th>departamento_id</th>\n",
              "      <th>departamento_nombre</th>\n",
              "      <th>municipio_id</th>\n",
              "      <th>municipio_nombre</th>\n",
              "      <th>provincia_id</th>\n",
              "      <th>provincia_nombre</th>\n",
              "      <th>dSubway</th>\n",
              "      <th>priceM2</th>\n",
              "    </tr>\n",
              "  </thead>\n",
              "  <tbody>\n",
              "    <tr>\n",
              "      <th>37425</th>\n",
              "      <td>11389</td>\n",
              "      <td>rmHp7ad/j1FlFizjBUWv1g==</td>\n",
              "      <td>2020-11-21</td>\n",
              "      <td>2020-12-02</td>\n",
              "      <td>2020-11-21</td>\n",
              "      <td>-31.493757</td>\n",
              "      <td>-64.568710</td>\n",
              "      <td>Argentina</td>\n",
              "      <td>Córdoba</td>\n",
              "      <td>Punilla</td>\n",
              "      <td>...</td>\n",
              "      <td>20791.796517</td>\n",
              "      <td>34971.709211</td>\n",
              "      <td>14091</td>\n",
              "      <td>Punilla</td>\n",
              "      <td>142546.0</td>\n",
              "      <td>Villa Río Icho Cruz</td>\n",
              "      <td>14</td>\n",
              "      <td>Córdoba</td>\n",
              "      <td>NaN</td>\n",
              "      <td>23.650794</td>\n",
              "    </tr>\n",
              "    <tr>\n",
              "      <th>112235</th>\n",
              "      <td>70094</td>\n",
              "      <td>ld3akTBeZXUg3tEMaYSVSg==</td>\n",
              "      <td>2020-06-27</td>\n",
              "      <td>2020-07-02</td>\n",
              "      <td>2020-06-27</td>\n",
              "      <td>-31.692425</td>\n",
              "      <td>-64.414586</td>\n",
              "      <td>Argentina</td>\n",
              "      <td>Córdoba</td>\n",
              "      <td>Santa María</td>\n",
              "      <td>...</td>\n",
              "      <td>5258.401334</td>\n",
              "      <td>32289.413363</td>\n",
              "      <td>14147</td>\n",
              "      <td>Santa María</td>\n",
              "      <td>142987.0</td>\n",
              "      <td>Anisacate</td>\n",
              "      <td>14</td>\n",
              "      <td>Córdoba</td>\n",
              "      <td>NaN</td>\n",
              "      <td>27.222222</td>\n",
              "    </tr>\n",
              "    <tr>\n",
              "      <th>121902</th>\n",
              "      <td>81935</td>\n",
              "      <td>AA8p2Rz/e/oMAtpUUk1aig==</td>\n",
              "      <td>2021-03-10</td>\n",
              "      <td>2021-06-05</td>\n",
              "      <td>2021-03-10</td>\n",
              "      <td>-34.594247</td>\n",
              "      <td>-58.397759</td>\n",
              "      <td>Argentina</td>\n",
              "      <td>Capital Federal</td>\n",
              "      <td>Recoleta</td>\n",
              "      <td>...</td>\n",
              "      <td>1544.287984</td>\n",
              "      <td>390.525678</td>\n",
              "      <td>2014</td>\n",
              "      <td>Comuna 2</td>\n",
              "      <td>NaN</td>\n",
              "      <td>NaN</td>\n",
              "      <td>2</td>\n",
              "      <td>Ciudad Autónoma de Buenos Aires</td>\n",
              "      <td>885.431097</td>\n",
              "      <td>23.051867</td>\n",
              "    </tr>\n",
              "    <tr>\n",
              "      <th>121903</th>\n",
              "      <td>124117</td>\n",
              "      <td>zfIJR+/46uZA1DD/bv0EYw==</td>\n",
              "      <td>2021-03-10</td>\n",
              "      <td>2021-06-05</td>\n",
              "      <td>2021-03-10</td>\n",
              "      <td>-34.594247</td>\n",
              "      <td>-58.397759</td>\n",
              "      <td>Argentina</td>\n",
              "      <td>Capital Federal</td>\n",
              "      <td>Recoleta</td>\n",
              "      <td>...</td>\n",
              "      <td>1544.287984</td>\n",
              "      <td>390.525678</td>\n",
              "      <td>2014</td>\n",
              "      <td>Comuna 2</td>\n",
              "      <td>NaN</td>\n",
              "      <td>NaN</td>\n",
              "      <td>2</td>\n",
              "      <td>Ciudad Autónoma de Buenos Aires</td>\n",
              "      <td>885.431097</td>\n",
              "      <td>23.051867</td>\n",
              "    </tr>\n",
              "    <tr>\n",
              "      <th>150102</th>\n",
              "      <td>123378</td>\n",
              "      <td>DTvEI4FVhcZpuTQYfHbWEg==</td>\n",
              "      <td>2020-06-07</td>\n",
              "      <td>2021-04-09</td>\n",
              "      <td>2020-06-07</td>\n",
              "      <td>-24.773918</td>\n",
              "      <td>-65.390045</td>\n",
              "      <td>Argentina</td>\n",
              "      <td>Salta</td>\n",
              "      <td>Salta</td>\n",
              "      <td>...</td>\n",
              "      <td>3262.185093</td>\n",
              "      <td>2614.010046</td>\n",
              "      <td>66028</td>\n",
              "      <td>Capital</td>\n",
              "      <td>660063.0</td>\n",
              "      <td>Salta</td>\n",
              "      <td>66</td>\n",
              "      <td>Salta</td>\n",
              "      <td>NaN</td>\n",
              "      <td>22.401210</td>\n",
              "    </tr>\n",
              "  </tbody>\n",
              "</table>\n",
              "<p>5 rows × 37 columns</p>\n",
              "</div>"
            ]
          },
          "metadata": {},
          "execution_count": 85
        }
      ]
    },
    {
      "cell_type": "code",
      "execution_count": 86,
      "metadata": {
        "id": "2lwhaFzSee-G"
      },
      "outputs": [],
      "source": [
        "geometry = [Point(xy) for xy in zip(propsDf.lon, propsDf.lat)]\n",
        "propsGDF = GeoDataFrame(propsDf, crs=\"EPSG:4326\", geometry=geometry) #GeoDataframe de las properties EPSG:4326 = ej -> -34, -54"
      ]
    },
    {
      "cell_type": "code",
      "execution_count": 87,
      "metadata": {
        "id": "2vI96cc17Qmj"
      },
      "outputs": [],
      "source": [
        "propsGDF.to_crs(epsg=3857,inplace=True) #lo convertimos a 3857. (misma transformacion que nuestro shape polygon, sirve para calcular el area)"
      ]
    },
    {
      "cell_type": "code",
      "execution_count": 88,
      "metadata": {
        "id": "Ca6wyrvRWmbK",
        "colab": {
          "base_uri": "https://localhost:8080/"
        },
        "outputId": "c9c97537-f9e4-4dfb-9ff6-32fc1c79e1bc"
      },
      "outputs": [
        {
          "output_type": "execute_result",
          "data": {
            "text/plain": [
              "0         POINT (-6505503.561 -4104893.694)\n",
              "1         POINT (-6505503.561 -4104893.694)\n",
              "2         POINT (-6505503.561 -4104893.694)\n",
              "3         POINT (-6527839.160 -4107388.383)\n",
              "4         POINT (-6506143.671 -4110609.678)\n",
              "                        ...                \n",
              "191070    POINT (-6506341.118 -4114213.836)\n",
              "191071    POINT (-6498823.572 -4108832.001)\n",
              "191072    POINT (-6498871.815 -4109828.457)\n",
              "191073    POINT (-6501011.931 -4107394.373)\n",
              "191074    POINT (-6499615.584 -4109143.234)\n",
              "Name: geometry, Length: 191075, dtype: geometry"
            ]
          },
          "metadata": {},
          "execution_count": 88
        }
      ],
      "source": [
        "propsGDF['geometry']"
      ]
    },
    {
      "cell_type": "code",
      "execution_count": 89,
      "metadata": {
        "id": "SIhe3bkpWQyr",
        "colab": {
          "base_uri": "https://localhost:8080/",
          "height": 81
        },
        "outputId": "c6ae5c98-f70d-40b6-e8ad-db120e026de1"
      },
      "outputs": [
        {
          "output_type": "execute_result",
          "data": {
            "text/plain": [
              "                                            geometry\n",
              "0  POLYGON ((-5777254.92149 -2724541.80841, -7479..."
            ],
            "text/html": [
              "<div>\n",
              "<style scoped>\n",
              "    .dataframe tbody tr th:only-of-type {\n",
              "        vertical-align: middle;\n",
              "    }\n",
              "\n",
              "    .dataframe tbody tr th {\n",
              "        vertical-align: top;\n",
              "    }\n",
              "\n",
              "    .dataframe thead th {\n",
              "        text-align: right;\n",
              "    }\n",
              "</style>\n",
              "<table border=\"1\" class=\"dataframe\">\n",
              "  <thead>\n",
              "    <tr style=\"text-align: right;\">\n",
              "      <th></th>\n",
              "      <th>geometry</th>\n",
              "    </tr>\n",
              "  </thead>\n",
              "  <tbody>\n",
              "    <tr>\n",
              "      <th>0</th>\n",
              "      <td>POLYGON ((-5777254.92149 -2724541.80841, -7479...</td>\n",
              "    </tr>\n",
              "  </tbody>\n",
              "</table>\n",
              "</div>"
            ]
          },
          "metadata": {},
          "execution_count": 89
        }
      ],
      "source": [
        "shapeDF"
      ]
    },
    {
      "cell_type": "markdown",
      "metadata": {
        "id": "z_AeZr8TllLJ"
      },
      "source": [
        "\n",
        "#Division algo:\n",
        "\n",
        "1- Definir minima area para los poligonos.\n",
        "\n",
        "2- Por cada poligono, es decir por cada provincia, calcular primero el precio de m^2 (lat-long)\n",
        "\n",
        "3-  hacer un split random del poligono y comparar el m^2 de los nuevos splits."
      ]
    },
    {
      "cell_type": "code",
      "execution_count": 108,
      "metadata": {
        "id": "RaZNaXCy8MPB"
      },
      "outputs": [],
      "source": [
        "def cut_polygon_by_line(polygon, line): #cortamos el polygono.\n",
        "    merged = linemerge([polygon.boundary, line])\n",
        "    borders = unary_union(merged)\n",
        "    polygons = polygonize(borders)\n",
        "    return list(polygons)\n",
        "\n",
        "def plot(shapely_objects, figure_path='fig.png'): #Para plotear las casas\n",
        "    from matplotlib import pyplot as plt\n",
        "    import geopandas as gpd\n",
        "    boundary = gpd.GeoSeries(shapely_objects)\n",
        "    boundary.plot(color=['red', 'green', 'blue', 'yellow', 'yellow','red', 'green', 'blue', 'yellow', 'yellow','red', 'green', 'blue', 'yellow', 'yellow'])\n",
        "    plt.show()\n",
        "    #plt.savefig(figure_path)\n",
        "\n",
        "def calculateArea(gdf):\n",
        "  gdf.to_crs(epsg=3395,inplace=True)\n",
        "  return gdf.area[0]/ 10**6\n",
        "\n",
        "def calculateAreainRespectToParent(parentShape,shapeAfterCut):\n",
        "  gdfpoly1 = GeoDataFrame(geometry=[parentShape], crs=\"EPSG:3857\")\n",
        "  gdfpoly2 = GeoDataFrame(geometry=[shapeAfterCut], crs=\"EPSG:3857\")\n",
        "  AParent = calculateArea(gdfpoly1)\n",
        "  ACut = calculateArea(gdfpoly2)\n",
        "  res = (ACut * 100 / AParent)\n",
        "  #print(\"res \",res)\n",
        "\n",
        "  if( ACut * 100 / AParent < 25): #Si por lo menos contiene un 25% respecto al padre, va\n",
        "    return True\n",
        "  else:\n",
        "    return False  \n",
        "  \n",
        "\n",
        "def polyFn(shape,resultingPolys,n,df_busqueda):\n",
        "  #minx, miny, maxx, maxy = list(shape.bounds)\n",
        "  #line = LineString([ Point(minx, (miny+maxy)/2), Point(maxx,(miny+maxy)/2)])   \n",
        "  \n",
        "  plot(shape)\n",
        "  exteriorCoords = list(shape.exterior.coords) #each of this is a vertex point. So, our lines will have to start from this point towards another point.\n",
        "  print(f\"Exterior coords amount: {len(exteriorCoords)}\")\n",
        "  #We assign this first.\n",
        "  maxX = exteriorCoords[0][0]\n",
        "  maxY = exteriorCoords[0][1]\n",
        "  minX = exteriorCoords[0][0]\n",
        "  minY = exteriorCoords[0][1]\n",
        "\n",
        "  for coords in exteriorCoords:\n",
        "    if(coords[0] > maxX):\n",
        "      maxX=coords[0]\n",
        "    if(coords[1] > maxY):\n",
        "      maxY=coords[1]\n",
        "    if(coords[0] < minX):\n",
        "      minX=coords[0]\n",
        "    if(coords[1] < minY):\n",
        "      minY=coords[1]\n",
        "\n",
        "  #we assigned the maxiumum left and right, top and bottom vertices. So our cuts will be from the left to the top right, and from the bottom to top.\n",
        "\n",
        "  for coords in exteriorCoords: #a partir de cada vertice tenemos que hacer n cortes\n",
        "  #Tenemos que calcular hacia que lado debemos partir el poligono, si la coordenada que estamos esta a la derecha del resto de las coordenadas, tenemos que splitear hacia la izquierda.\n",
        "  #La altura maxima tambien debemos calcular ya que queremos que cambie la altura del corte. Si esta arriba tiene que cortar hacia abajo, o si esta abajo hacia arriba.\n",
        "\n",
        "    valuesX = list(np.linspace(minX, maxX, num=n, endpoint=True)) #calculamos los valores de X\n",
        "    valuesY = list(np.linspace(minY, maxY, num=n, endpoint=True)) #calculamos los valores de Y\n",
        "\n",
        "    totalHousesInPoly, totalM2, df_busqueda_update = getHousesInPoly(shape, df_busqueda)\n",
        "    pointCoords = Point(coords[0], coords[1])\n",
        "\n",
        "    if(totalHousesInPoly > 20):\n",
        "      for i in range(n): #hacemos n cortes desde cada vertice\n",
        "        if(coords[1] == minY and coords[0] != minX and coords[0] !=maxX):\n",
        "          #if we cut from left to right and are in the bottom.\n",
        "          line = LineString([pointCoords, Point(valuesX[i],maxY)])\n",
        "          print(\"Cut 1\")\n",
        "        \n",
        "        elif(coords[1] == maxY and coords[0] != minX and coords[0] !=maxX):\n",
        "          #if we cut from left to right and are in the top.\n",
        "          line = LineString([pointCoords, Point(valuesX[i],minY)])\n",
        "          print(\"Cut 2\")\n",
        "        \n",
        "        elif(coords[0] == minX and coords[1] != minY and coords[1] !=maxY):\n",
        "          #if we cut from top to bottom and are in the left.\n",
        "          line = LineString([pointCoords, Point(maxX,valuesY[i])])\n",
        "          print(\"Cut 3\")\n",
        "\n",
        "        elif(coords[0] == maxX and coords[1] != minY and coords[1] !=maxY):\n",
        "          #if we cut from top to bottom and are in the right.\n",
        "          line = LineString([pointCoords, Point(minX,valuesY[i])])\n",
        "          print(\"Cut 4\")\n",
        "\n",
        "        else:\n",
        "          #we shouldn't reach here but just in case, we cut by the diagonal\n",
        "          minx, miny, maxx, maxy = list(shape.bounds)\n",
        "          line = LineString([ Point(minx, (miny+maxy)/2), Point(maxx,(miny+maxy)/2)])\n",
        "          print(\"Cut 5\")\n",
        "\n",
        "        split = cut_polygon_by_line(shape, line) #Here comes the remaining polygons after the split, so split=[polys] which together form 'shape'\n",
        "        if(calculateAreainRespectToParent(shape,split[0])): #If we have somewhat a good cut.\n",
        "          plot(split)\n",
        "          for poly in split: #remaining polygons after cut.\n",
        "            totalHousesAfterSplit, totalAfterSplitM2, df_busqueda_update_2 = getHousesInPoly(poly, df_busqueda_update) #Calculate totalhousesAfterSplit, and totalM2AfterSplit (in a splitted polygon)\n",
        "            gdfpoly = GeoDataFrame(geometry=[poly], crs=\"EPSG:3857\")\n",
        "            area=calculateArea(gdfpoly)\n",
        "            #print('area: ', area)\n",
        "            #print(df_busqueda_update_2)\n",
        "            if(totalHousesAfterSplit >= 20 or area >= 1.0): #If we have atleast 20 houses, or the area is greater= than 1\n",
        "              totalPercentageInPoly = totalHousesAfterSplit/totalHousesInPoly*100 #We get the percentage of houses in polygon\n",
        "              if (calculateError(df_busqueda_update_2,df_busqueda_update)): #calculamos si el error es mejor o no, si no lo es seguimos iterando\n",
        "                resultingPolys.append([poly,totalAfterSplitM2])# save the poly and the m2\n",
        "                break;\n",
        "              else:\n",
        "                polyFn(poly,resultingPolys,n,df_busqueda_update_2) #we have a meh polygon, keep splitting it.\n",
        "            else:\n",
        "              resultingPolys.append([shape,totalM2]) #add the parent poly.\n",
        "        else:\n",
        "          break; #bad cut, dont add and break loop.\n",
        "\n",
        "      \n",
        "def calculateError(df_HousesAfterSplit,df_HousesInParentPolygon):\n",
        "  #Maxi error_calculation finding?\n",
        "  #meanM2AfterSplit = getTotalM2(df_HousesAfterSplit)\n",
        "  #meanM2BeforeSplit = getTotalM2(df_HousesInParentPolygon)\n",
        "\n",
        "  std_error_before = np.std(df_HousesInParentPolygon['priceM2'], ddof=1) / np.sqrt(np.size(df_HousesInParentPolygon['priceM2'])) # stdeviation del promedio de m2 / raiz(tamano de la cantidad de casas en ese promedio)\n",
        "  std_error_after = np.std(df_HousesAfterSplit['priceM2'], ddof=1) / np.sqrt(np.size(df_HousesAfterSplit['priceM2'])) # stdeviation del promedio de m2 / raiz(tamano de la cantidad de casas en ese promedio)\n",
        "\n",
        "  #print(\"eB \",std_error_before)\n",
        "  #print(\"eA \",std_error_after)\n",
        "\n",
        "  if (std_error_before >= std_error_after): \n",
        "    return True #Error se reduce\n",
        "  else: \n",
        "    return False # error no se reduce, Seguimos iterando\n",
        "\n",
        "def getTotalM2(df):\n",
        "  size = len(df)\n",
        "  meanM2 = df['priceM2'].sum()/size\n",
        "  return meanM2\n",
        "\n",
        "def getHousesInPoly(poly, df_busqueda): \n",
        "  polygpd = GeoDataFrame(geometry=[poly], crs=\"EPSG:3857\")\n",
        "  joined = gpd.sjoin(df_busqueda,polygpd,how='left',predicate='within') #here we join the new df_busqueda with the poly if its within.\n",
        "  joined = joined[joined['index_right'].notna()] #drop those that are not within\n",
        "  joined.drop(['index_right'], axis=1, errors='ignore',inplace=True) #drop the added col so we can repeat the process\n",
        "  size = len(joined)\n",
        "\n",
        "  if(size >= 1):\n",
        "    print(f\"size {size}\")\n",
        "    meanM2 = joined['priceM2'].sum()/size\n",
        "    #print(meanM2)\n",
        "  else:\n",
        "    meanM2 = 0\n",
        "  return size, meanM2, joined\n",
        "\n",
        "\n",
        "def setM2ForHousesInPoly(polyArray):\n",
        "    poly = polyArray[0]\n",
        "    m2 = polyArray[1]\n",
        "    for j, pt in propsGDF.iterrows():\n",
        "        if poly.contains(pt.geometry):\n",
        "            propsGDF.loc[j, 'nearestM2'] = m2 # this is to set so we have to do itterrows..."
      ]
    },
    {
      "cell_type": "code",
      "source": [
        "plot(shapeDF.iloc[0].geometry)"
      ],
      "metadata": {
        "colab": {
          "base_uri": "https://localhost:8080/",
          "height": 265
        },
        "id": "q6VqV2cbRos-",
        "outputId": "b9843489-da01-407b-cd11-9674a2296441"
      },
      "execution_count": 109,
      "outputs": [
        {
          "output_type": "display_data",
          "data": {
            "text/plain": [
              "<Figure size 432x288 with 1 Axes>"
            ],
            "image/png": "[encoded data removed]"
          },
          "metadata": {
            "needs_background": "light"
          }
        }
      ]
    },
    {
      "cell_type": "code",
      "execution_count": 107,
      "metadata": {
        "id": "M85dId-f8UaI",
        "colab": {
          "base_uri": "https://localhost:8080/",
          "height": 1000
        },
        "outputId": "47069aa0-078f-42ce-e847-17f30cf86f6b"
      },
      "outputs": [
        {
          "output_type": "display_data",
          "data": {
            "text/plain": [
              "<Figure size 432x288 with 1 Axes>"
            ],
            "image/png": "[encoded data removed]"
          },
          "metadata": {
            "needs_background": "light"
          }
        },
        {
          "output_type": "stream",
          "name": "stdout",
          "text": [
            "Exterior coords amount: 6\n",
            "size 191075\n",
            "Cut 4\n",
            "size 191075\n",
            "Cut 2\n"
          ]
        },
        {
          "output_type": "display_data",
          "data": {
            "text/plain": [
              "<Figure size 432x288 with 1 Axes>"
            ],
            "image/png": "[encoded data removed]"
          },
          "metadata": {
            "needs_background": "light"
          }
        },
        {
          "output_type": "stream",
          "name": "stdout",
          "text": [
            "size 939\n"
          ]
        },
        {
          "output_type": "display_data",
          "data": {
            "text/plain": [
              "<Figure size 432x288 with 1 Axes>"
            ],
            "image/png": "[encoded data removed]"
          },
          "metadata": {
            "needs_background": "light"
          }
        },
        {
          "output_type": "stream",
          "name": "stdout",
          "text": [
            "Exterior coords amount: 5\n",
            "size 939\n",
            "Cut 5\n",
            "size 939\n",
            "Cut 1\n",
            "size 939\n",
            "Cut 3\n"
          ]
        },
        {
          "output_type": "display_data",
          "data": {
            "text/plain": [
              "<Figure size 432x288 with 1 Axes>"
            ],
            "image/png": "[encoded data removed]"
          },
          "metadata": {
            "needs_background": "light"
          }
        },
        {
          "output_type": "stream",
          "name": "stdout",
          "text": [
            "size 0\n"
          ]
        },
        {
          "output_type": "display_data",
          "data": {
            "text/plain": [
              "<Figure size 432x288 with 1 Axes>"
            ],
            "image/png": "[encoded data removed]"
          },
          "metadata": {
            "needs_background": "light"
          }
        },
        {
          "output_type": "stream",
          "name": "stdout",
          "text": [
            "Exterior coords amount: 4\n",
            "size 0\n",
            "size 0\n",
            "size 0\n",
            "size 0\n",
            "size 939\n",
            "Cut 3\n"
          ]
        },
        {
          "output_type": "display_data",
          "data": {
            "text/plain": [
              "<Figure size 432x288 with 1 Axes>"
            ],
            "image/png": "[encoded data removed]"
          },
          "metadata": {
            "needs_background": "light"
          }
        },
        {
          "output_type": "stream",
          "name": "stdout",
          "text": [
            "size 0\n"
          ]
        },
        {
          "output_type": "display_data",
          "data": {
            "text/plain": [
              "<Figure size 432x288 with 1 Axes>"
            ],
            "image/png": "[encoded data removed]"
          },
          "metadata": {
            "needs_background": "light"
          }
        },
        {
          "output_type": "stream",
          "name": "stdout",
          "text": [
            "Exterior coords amount: 4\n",
            "size 0\n",
            "size 0\n",
            "size 0\n",
            "size 0\n",
            "size 939\n",
            "Cut 3\n"
          ]
        },
        {
          "output_type": "display_data",
          "data": {
            "text/plain": [
              "<Figure size 432x288 with 1 Axes>"
            ],
            "image/png": "[encoded data removed]"
          },
          "metadata": {
            "needs_background": "light"
          }
        },
        {
          "output_type": "stream",
          "name": "stdout",
          "text": [
            "size 0\n"
          ]
        },
        {
          "output_type": "display_data",
          "data": {
            "text/plain": [
              "<Figure size 432x288 with 1 Axes>"
            ],
            "image/png": "[encoded data removed]"
          },
          "metadata": {
            "needs_background": "light"
          }
        },
        {
          "output_type": "stream",
          "name": "stdout",
          "text": [
            "Exterior coords amount: 4\n",
            "size 0\n",
            "size 0\n",
            "size 0\n",
            "size 0\n",
            "size 939\n",
            "Cut 3\n",
            "size 939\n",
            "Cut 5\n",
            "size 939\n",
            "Cut 5\n",
            "size 190136\n"
          ]
        },
        {
          "output_type": "display_data",
          "data": {
            "text/plain": [
              "<Figure size 432x288 with 1 Axes>"
            ],
            "image/png": "[encoded data removed]"
          },
          "metadata": {
            "needs_background": "light"
          }
        },
        {
          "output_type": "stream",
          "name": "stdout",
          "text": [
            "Exterior coords amount: 5\n"
          ]
        },
        {
          "output_type": "error",
          "ename": "KeyboardInterrupt",
          "evalue": "ignored",
          "traceback": [
            "\u001b[0;31m---------------------------------------------------------------------------\u001b[0m",
            "\u001b[0;31mKeyboardInterrupt\u001b[0m                         Traceback (most recent call last)",
            "\u001b[0;32m/tmp/ipykernel_13970/1374728300.py\u001b[0m in \u001b[0;36m<module>\u001b[0;34m\u001b[0m\n\u001b[1;32m      6\u001b[0m   \u001b[0;31m#result = cut_polygon_by_line(poly.geometry, line)\u001b[0m\u001b[0;34m\u001b[0m\u001b[0;34m\u001b[0m\u001b[0;34m\u001b[0m\u001b[0m\n\u001b[1;32m      7\u001b[0m \u001b[0;34m\u001b[0m\u001b[0m\n\u001b[0;32m----> 8\u001b[0;31m \u001b[0mpolyFn\u001b[0m\u001b[0;34m(\u001b[0m\u001b[0mshapeDF\u001b[0m\u001b[0;34m.\u001b[0m\u001b[0miloc\u001b[0m\u001b[0;34m[\u001b[0m\u001b[0;36m0\u001b[0m\u001b[0;34m]\u001b[0m\u001b[0;34m.\u001b[0m\u001b[0mgeometry\u001b[0m\u001b[0;34m,\u001b[0m\u001b[0mpolyArray\u001b[0m\u001b[0;34m,\u001b[0m\u001b[0;36m4\u001b[0m\u001b[0;34m,\u001b[0m \u001b[0mpropsGDF\u001b[0m\u001b[0;34m)\u001b[0m\u001b[0;34m\u001b[0m\u001b[0;34m\u001b[0m\u001b[0m\n\u001b[0m\u001b[1;32m      9\u001b[0m \u001b[0;34m\u001b[0m\u001b[0m\n\u001b[1;32m     10\u001b[0m \u001b[0;31m#npArray = np.array(polyArray)\u001b[0m\u001b[0;34m\u001b[0m\u001b[0;34m\u001b[0m\u001b[0;34m\u001b[0m\u001b[0m\n",
            "\u001b[0;32m/tmp/ipykernel_13970/3546318420.py\u001b[0m in \u001b[0;36mpolyFn\u001b[0;34m(shape, resultingPolys, n, df_busqueda)\u001b[0m\n\u001b[1;32m    109\u001b[0m                 \u001b[0;32mbreak\u001b[0m\u001b[0;34m;\u001b[0m\u001b[0;34m\u001b[0m\u001b[0;34m\u001b[0m\u001b[0m\n\u001b[1;32m    110\u001b[0m               \u001b[0;32melse\u001b[0m\u001b[0;34m:\u001b[0m\u001b[0;34m\u001b[0m\u001b[0;34m\u001b[0m\u001b[0m\n\u001b[0;32m--> 111\u001b[0;31m                 \u001b[0mpolyFn\u001b[0m\u001b[0;34m(\u001b[0m\u001b[0mpoly\u001b[0m\u001b[0;34m,\u001b[0m\u001b[0mresultingPolys\u001b[0m\u001b[0;34m,\u001b[0m\u001b[0mn\u001b[0m\u001b[0;34m,\u001b[0m\u001b[0mdf_busqueda_update_2\u001b[0m\u001b[0;34m)\u001b[0m \u001b[0;31m#we have a meh polygon, keep splitting it.\u001b[0m\u001b[0;34m\u001b[0m\u001b[0;34m\u001b[0m\u001b[0m\n\u001b[0m\u001b[1;32m    112\u001b[0m             \u001b[0;32melse\u001b[0m\u001b[0;34m:\u001b[0m\u001b[0;34m\u001b[0m\u001b[0;34m\u001b[0m\u001b[0m\n\u001b[1;32m    113\u001b[0m               \u001b[0mresultingPolys\u001b[0m\u001b[0;34m.\u001b[0m\u001b[0mappend\u001b[0m\u001b[0;34m(\u001b[0m\u001b[0;34m[\u001b[0m\u001b[0mshape\u001b[0m\u001b[0;34m,\u001b[0m\u001b[0mtotalM2\u001b[0m\u001b[0;34m]\u001b[0m\u001b[0;34m)\u001b[0m \u001b[0;31m#add the parent poly.\u001b[0m\u001b[0;34m\u001b[0m\u001b[0;34m\u001b[0m\u001b[0m\n",
            "\u001b[0;32m/tmp/ipykernel_13970/3546318420.py\u001b[0m in \u001b[0;36mpolyFn\u001b[0;34m(shape, resultingPolys, n, df_busqueda)\u001b[0m\n\u001b[1;32m     63\u001b[0m     \u001b[0mvaluesY\u001b[0m \u001b[0;34m=\u001b[0m \u001b[0mlist\u001b[0m\u001b[0;34m(\u001b[0m\u001b[0mnp\u001b[0m\u001b[0;34m.\u001b[0m\u001b[0mlinspace\u001b[0m\u001b[0;34m(\u001b[0m\u001b[0mminY\u001b[0m\u001b[0;34m,\u001b[0m \u001b[0mmaxY\u001b[0m\u001b[0;34m,\u001b[0m \u001b[0mnum\u001b[0m\u001b[0;34m=\u001b[0m\u001b[0mn\u001b[0m\u001b[0;34m,\u001b[0m \u001b[0mendpoint\u001b[0m\u001b[0;34m=\u001b[0m\u001b[0;32mTrue\u001b[0m\u001b[0;34m)\u001b[0m\u001b[0;34m)\u001b[0m \u001b[0;31m#calculamos los valores de Y\u001b[0m\u001b[0;34m\u001b[0m\u001b[0;34m\u001b[0m\u001b[0m\n\u001b[1;32m     64\u001b[0m \u001b[0;34m\u001b[0m\u001b[0m\n\u001b[0;32m---> 65\u001b[0;31m     \u001b[0mtotalHousesInPoly\u001b[0m\u001b[0;34m,\u001b[0m \u001b[0mtotalM2\u001b[0m\u001b[0;34m,\u001b[0m \u001b[0mdf_busqueda_update\u001b[0m \u001b[0;34m=\u001b[0m \u001b[0mgetHousesInPoly\u001b[0m\u001b[0;34m(\u001b[0m\u001b[0mshape\u001b[0m\u001b[0;34m,\u001b[0m \u001b[0mdf_busqueda\u001b[0m\u001b[0;34m)\u001b[0m\u001b[0;34m\u001b[0m\u001b[0;34m\u001b[0m\u001b[0m\n\u001b[0m\u001b[1;32m     66\u001b[0m     \u001b[0mpointCoords\u001b[0m \u001b[0;34m=\u001b[0m \u001b[0mPoint\u001b[0m\u001b[0;34m(\u001b[0m\u001b[0mcoords\u001b[0m\u001b[0;34m[\u001b[0m\u001b[0;36m0\u001b[0m\u001b[0;34m]\u001b[0m\u001b[0;34m,\u001b[0m \u001b[0mcoords\u001b[0m\u001b[0;34m[\u001b[0m\u001b[0;36m1\u001b[0m\u001b[0;34m]\u001b[0m\u001b[0;34m)\u001b[0m\u001b[0;34m\u001b[0m\u001b[0;34m\u001b[0m\u001b[0m\n\u001b[1;32m     67\u001b[0m \u001b[0;34m\u001b[0m\u001b[0m\n",
            "\u001b[0;32m/tmp/ipykernel_13970/3546318420.py\u001b[0m in \u001b[0;36mgetHousesInPoly\u001b[0;34m(poly, df_busqueda)\u001b[0m\n\u001b[1;32m    139\u001b[0m \u001b[0;32mdef\u001b[0m \u001b[0mgetHousesInPoly\u001b[0m\u001b[0;34m(\u001b[0m\u001b[0mpoly\u001b[0m\u001b[0;34m,\u001b[0m \u001b[0mdf_busqueda\u001b[0m\u001b[0;34m)\u001b[0m\u001b[0;34m:\u001b[0m\u001b[0;34m\u001b[0m\u001b[0;34m\u001b[0m\u001b[0m\n\u001b[1;32m    140\u001b[0m   \u001b[0mpolygpd\u001b[0m \u001b[0;34m=\u001b[0m \u001b[0mGeoDataFrame\u001b[0m\u001b[0;34m(\u001b[0m\u001b[0mgeometry\u001b[0m\u001b[0;34m=\u001b[0m\u001b[0;34m[\u001b[0m\u001b[0mpoly\u001b[0m\u001b[0;34m]\u001b[0m\u001b[0;34m,\u001b[0m \u001b[0mcrs\u001b[0m\u001b[0;34m=\u001b[0m\u001b[0;34m\"EPSG:3857\"\u001b[0m\u001b[0;34m)\u001b[0m\u001b[0;34m\u001b[0m\u001b[0;34m\u001b[0m\u001b[0m\n\u001b[0;32m--> 141\u001b[0;31m   \u001b[0mjoined\u001b[0m \u001b[0;34m=\u001b[0m \u001b[0mgpd\u001b[0m\u001b[0;34m.\u001b[0m\u001b[0msjoin\u001b[0m\u001b[0;34m(\u001b[0m\u001b[0mdf_busqueda\u001b[0m\u001b[0;34m,\u001b[0m\u001b[0mpolygpd\u001b[0m\u001b[0;34m,\u001b[0m\u001b[0mhow\u001b[0m\u001b[0;34m=\u001b[0m\u001b[0;34m'left'\u001b[0m\u001b[0;34m,\u001b[0m\u001b[0mpredicate\u001b[0m\u001b[0;34m=\u001b[0m\u001b[0;34m'within'\u001b[0m\u001b[0;34m)\u001b[0m \u001b[0;31m#here we join the new df_busqueda with the poly if its within.\u001b[0m\u001b[0;34m\u001b[0m\u001b[0;34m\u001b[0m\u001b[0m\n\u001b[0m\u001b[1;32m    142\u001b[0m   \u001b[0mjoined\u001b[0m \u001b[0;34m=\u001b[0m \u001b[0mjoined\u001b[0m\u001b[0;34m[\u001b[0m\u001b[0mjoined\u001b[0m\u001b[0;34m[\u001b[0m\u001b[0;34m'index_right'\u001b[0m\u001b[0;34m]\u001b[0m\u001b[0;34m.\u001b[0m\u001b[0mnotna\u001b[0m\u001b[0;34m(\u001b[0m\u001b[0;34m)\u001b[0m\u001b[0;34m]\u001b[0m \u001b[0;31m#drop those that are not within\u001b[0m\u001b[0;34m\u001b[0m\u001b[0;34m\u001b[0m\u001b[0m\n\u001b[1;32m    143\u001b[0m   \u001b[0mjoined\u001b[0m\u001b[0;34m.\u001b[0m\u001b[0mdrop\u001b[0m\u001b[0;34m(\u001b[0m\u001b[0;34m[\u001b[0m\u001b[0;34m'index_right'\u001b[0m\u001b[0;34m]\u001b[0m\u001b[0;34m,\u001b[0m \u001b[0maxis\u001b[0m\u001b[0;34m=\u001b[0m\u001b[0;36m1\u001b[0m\u001b[0;34m,\u001b[0m \u001b[0merrors\u001b[0m\u001b[0;34m=\u001b[0m\u001b[0;34m'ignore'\u001b[0m\u001b[0;34m,\u001b[0m\u001b[0minplace\u001b[0m\u001b[0;34m=\u001b[0m\u001b[0;32mTrue\u001b[0m\u001b[0;34m)\u001b[0m \u001b[0;31m#drop the added col so we can repeat the process\u001b[0m\u001b[0;34m\u001b[0m\u001b[0;34m\u001b[0m\u001b[0m\n",
            "\u001b[0;32m~/.local/lib/python3.8/site-packages/geopandas/tools/sjoin.py\u001b[0m in \u001b[0;36msjoin\u001b[0;34m(left_df, right_df, how, predicate, lsuffix, rsuffix, **kwargs)\u001b[0m\n\u001b[1;32m    122\u001b[0m     \u001b[0m_basic_checks\u001b[0m\u001b[0;34m(\u001b[0m\u001b[0mleft_df\u001b[0m\u001b[0;34m,\u001b[0m \u001b[0mright_df\u001b[0m\u001b[0;34m,\u001b[0m \u001b[0mhow\u001b[0m\u001b[0;34m,\u001b[0m \u001b[0mlsuffix\u001b[0m\u001b[0;34m,\u001b[0m \u001b[0mrsuffix\u001b[0m\u001b[0;34m)\u001b[0m\u001b[0;34m\u001b[0m\u001b[0;34m\u001b[0m\u001b[0m\n\u001b[1;32m    123\u001b[0m \u001b[0;34m\u001b[0m\u001b[0m\n\u001b[0;32m--> 124\u001b[0;31m     \u001b[0mindices\u001b[0m \u001b[0;34m=\u001b[0m \u001b[0m_geom_predicate_query\u001b[0m\u001b[0;34m(\u001b[0m\u001b[0mleft_df\u001b[0m\u001b[0;34m,\u001b[0m \u001b[0mright_df\u001b[0m\u001b[0;34m,\u001b[0m \u001b[0mpredicate\u001b[0m\u001b[0;34m)\u001b[0m\u001b[0;34m\u001b[0m\u001b[0;34m\u001b[0m\u001b[0m\n\u001b[0m\u001b[1;32m    125\u001b[0m \u001b[0;34m\u001b[0m\u001b[0m\n\u001b[1;32m    126\u001b[0m     \u001b[0mjoined\u001b[0m \u001b[0;34m=\u001b[0m \u001b[0m_frame_join\u001b[0m\u001b[0;34m(\u001b[0m\u001b[0mindices\u001b[0m\u001b[0;34m,\u001b[0m \u001b[0mleft_df\u001b[0m\u001b[0;34m,\u001b[0m \u001b[0mright_df\u001b[0m\u001b[0;34m,\u001b[0m \u001b[0mhow\u001b[0m\u001b[0;34m,\u001b[0m \u001b[0mlsuffix\u001b[0m\u001b[0;34m,\u001b[0m \u001b[0mrsuffix\u001b[0m\u001b[0;34m)\u001b[0m\u001b[0;34m\u001b[0m\u001b[0;34m\u001b[0m\u001b[0m\n",
            "\u001b[0;32m~/.local/lib/python3.8/site-packages/geopandas/tools/sjoin.py\u001b[0m in \u001b[0;36m_geom_predicate_query\u001b[0;34m(left_df, right_df, predicate)\u001b[0m\n\u001b[1;32m    218\u001b[0m \u001b[0;34m\u001b[0m\u001b[0m\n\u001b[1;32m    219\u001b[0m     \u001b[0;32mif\u001b[0m \u001b[0msindex\u001b[0m\u001b[0;34m:\u001b[0m\u001b[0;34m\u001b[0m\u001b[0;34m\u001b[0m\u001b[0m\n\u001b[0;32m--> 220\u001b[0;31m         \u001b[0ml_idx\u001b[0m\u001b[0;34m,\u001b[0m \u001b[0mr_idx\u001b[0m \u001b[0;34m=\u001b[0m \u001b[0msindex\u001b[0m\u001b[0;34m.\u001b[0m\u001b[0mquery_bulk\u001b[0m\u001b[0;34m(\u001b[0m\u001b[0minput_geoms\u001b[0m\u001b[0;34m,\u001b[0m \u001b[0mpredicate\u001b[0m\u001b[0;34m=\u001b[0m\u001b[0mpredicate\u001b[0m\u001b[0;34m,\u001b[0m \u001b[0msort\u001b[0m\u001b[0;34m=\u001b[0m\u001b[0;32mFalse\u001b[0m\u001b[0;34m)\u001b[0m\u001b[0;34m\u001b[0m\u001b[0;34m\u001b[0m\u001b[0m\n\u001b[0m\u001b[1;32m    221\u001b[0m         \u001b[0mindices\u001b[0m \u001b[0;34m=\u001b[0m \u001b[0mpd\u001b[0m\u001b[0;34m.\u001b[0m\u001b[0mDataFrame\u001b[0m\u001b[0;34m(\u001b[0m\u001b[0;34m{\u001b[0m\u001b[0;34m\"_key_left\"\u001b[0m\u001b[0;34m:\u001b[0m \u001b[0ml_idx\u001b[0m\u001b[0;34m,\u001b[0m \u001b[0;34m\"_key_right\"\u001b[0m\u001b[0;34m:\u001b[0m \u001b[0mr_idx\u001b[0m\u001b[0;34m}\u001b[0m\u001b[0;34m)\u001b[0m\u001b[0;34m\u001b[0m\u001b[0;34m\u001b[0m\u001b[0m\n\u001b[1;32m    222\u001b[0m     \u001b[0;32melse\u001b[0m\u001b[0;34m:\u001b[0m\u001b[0;34m\u001b[0m\u001b[0;34m\u001b[0m\u001b[0m\n",
            "\u001b[0;32m~/.local/lib/python3.8/site-packages/geopandas/sindex.py\u001b[0m in \u001b[0;36mquery_bulk\u001b[0;34m(self, geometry, predicate, sort)\u001b[0m\n\u001b[1;32m    741\u001b[0m             \u001b[0mgeometry\u001b[0m \u001b[0;34m=\u001b[0m \u001b[0mself\u001b[0m\u001b[0;34m.\u001b[0m\u001b[0m_as_geometry_array\u001b[0m\u001b[0;34m(\u001b[0m\u001b[0mgeometry\u001b[0m\u001b[0;34m)\u001b[0m\u001b[0;34m\u001b[0m\u001b[0;34m\u001b[0m\u001b[0m\n\u001b[1;32m    742\u001b[0m \u001b[0;34m\u001b[0m\u001b[0m\n\u001b[0;32m--> 743\u001b[0;31m             \u001b[0mres\u001b[0m \u001b[0;34m=\u001b[0m \u001b[0msuper\u001b[0m\u001b[0;34m(\u001b[0m\u001b[0;34m)\u001b[0m\u001b[0;34m.\u001b[0m\u001b[0mquery_bulk\u001b[0m\u001b[0;34m(\u001b[0m\u001b[0mgeometry\u001b[0m\u001b[0;34m,\u001b[0m \u001b[0mpredicate\u001b[0m\u001b[0;34m)\u001b[0m\u001b[0;34m\u001b[0m\u001b[0;34m\u001b[0m\u001b[0m\n\u001b[0m\u001b[1;32m    744\u001b[0m \u001b[0;34m\u001b[0m\u001b[0m\n\u001b[1;32m    745\u001b[0m             \u001b[0;32mif\u001b[0m \u001b[0msort\u001b[0m\u001b[0;34m:\u001b[0m\u001b[0;34m\u001b[0m\u001b[0;34m\u001b[0m\u001b[0m\n",
            "\u001b[0;32m~/.local/lib/python3.8/site-packages/pygeos/strtree.py\u001b[0m in \u001b[0;36mquery_bulk\u001b[0;34m(self, geometry, predicate, distance)\u001b[0m\n\u001b[1;32m    226\u001b[0m \u001b[0;34m\u001b[0m\u001b[0m\n\u001b[1;32m    227\u001b[0m         \u001b[0mpredicate\u001b[0m \u001b[0;34m=\u001b[0m \u001b[0mBinaryPredicate\u001b[0m\u001b[0;34m.\u001b[0m\u001b[0mget_value\u001b[0m\u001b[0;34m(\u001b[0m\u001b[0mpredicate\u001b[0m\u001b[0;34m)\u001b[0m\u001b[0;34m\u001b[0m\u001b[0;34m\u001b[0m\u001b[0m\n\u001b[0;32m--> 228\u001b[0;31m         \u001b[0;32mreturn\u001b[0m \u001b[0mself\u001b[0m\u001b[0;34m.\u001b[0m\u001b[0m_tree\u001b[0m\u001b[0;34m.\u001b[0m\u001b[0mquery_bulk\u001b[0m\u001b[0;34m(\u001b[0m\u001b[0mgeometry\u001b[0m\u001b[0;34m,\u001b[0m \u001b[0mpredicate\u001b[0m\u001b[0;34m)\u001b[0m\u001b[0;34m\u001b[0m\u001b[0;34m\u001b[0m\u001b[0m\n\u001b[0m\u001b[1;32m    229\u001b[0m \u001b[0;34m\u001b[0m\u001b[0m\n\u001b[1;32m    230\u001b[0m     \u001b[0;34m@\u001b[0m\u001b[0mrequires_geos\u001b[0m\u001b[0;34m(\u001b[0m\u001b[0;34m\"3.6.0\"\u001b[0m\u001b[0;34m)\u001b[0m\u001b[0;34m\u001b[0m\u001b[0;34m\u001b[0m\u001b[0m\n",
            "\u001b[0;31mKeyboardInterrupt\u001b[0m: "
          ]
        }
      ],
      "source": [
        "polyArray = [] #we need to save all the polygons as a tuple\n",
        "\n",
        "#for pos, poly in shapeDF.iterrows():\n",
        "#  minx, miny, maxx, maxy = list(poly.geometry.bounds)\n",
        " # line = LineString([ Point(minx, miny), Point(maxx,maxy)]) #se splitea por una linea diagonal (este es el primer split)\n",
        "  #result = cut_polygon_by_line(poly.geometry, line)\n",
        "\n",
        "polyFn(shapeDF.iloc[0].geometry,polyArray,4, propsGDF) \n",
        "\n",
        "#npArray = np.array(polyArray)\n",
        "#with open('/Downloads/ubicar/dynamic/array.txt', 'w') as f:\n",
        "#    np.savetxt(f, npArray)\n",
        "\n",
        "propsGDF['nearestM2'] = np.nan\n",
        "for poly in polyArray:\n",
        "  setM2ForHousesInPoly(poly)\n",
        "\n",
        "propsDf = pd.DataFrame(propsGDF.drop(columns=['geometry','priceM2']))\n"
      ]
    },
    {
      "cell_type": "code",
      "source": [
        "propsDf.to_csv('~/Downloads/ubicar/dynamic/PostAlgoCasas.csv', index=False) #Despues con este se hace el entrenado del modelo."
      ],
      "metadata": {
        "id": "ABTHwgzuPiD9"
      },
      "execution_count": 94,
      "outputs": []
    },
    {
      "cell_type": "code",
      "source": [
        "propsDf.describe()"
      ],
      "metadata": {
        "colab": {
          "base_uri": "https://localhost:8080/",
          "height": 349
        },
        "id": "x7DD3TMOm07E",
        "outputId": "57fc210f-2390-4168-ca81-ad1ac3073bc3"
      },
      "execution_count": 95,
      "outputs": [
        {
          "output_type": "execute_result",
          "data": {
            "text/plain": [
              "          Unnamed: 0            lat            lon          rooms  \\\n",
              "count  191075.000000  191075.000000  191075.000000  191075.000000   \n",
              "mean   103435.758817     -34.430859     -59.033315       2.953400   \n",
              "std     59680.673173       1.229128       1.835340       1.489012   \n",
              "min         1.000000     -41.986706     -71.686300       1.000000   \n",
              "25%     51742.500000     -34.630100     -58.649794       2.000000   \n",
              "50%    103510.000000     -34.590028     -58.472648       3.000000   \n",
              "75%    155114.500000     -34.499624     -58.414637       4.000000   \n",
              "max    206751.000000     -24.659769     -55.874782      14.000000   \n",
              "\n",
              "       surface_total  surface_covered          price       dRailway  \\\n",
              "count  191075.000000     191075.00000  191075.000000  191075.000000   \n",
              "mean      116.742410         88.05277  174010.598320    1918.942947   \n",
              "std       115.944604         63.31283  129323.154607    6859.487059   \n",
              "min        20.000000         11.00000   10500.000000       0.011708   \n",
              "25%        50.000000         44.00000   85000.000000     451.873150   \n",
              "50%        75.000000         66.00000  135000.000000     992.026127   \n",
              "75%       138.000000        110.00000  220000.000000    1750.238150   \n",
              "max       955.000000        397.00000  791500.000000  191859.002829   \n",
              "\n",
              "       dIndustrialArea       dAirport  ...  dPenitentiary          dPort  \\\n",
              "count    191075.000000  191075.000000  ...  191075.000000  191075.000000   \n",
              "mean      13270.694058   17798.754069  ...   33458.442153   36191.113749   \n",
              "std       16947.894318   11335.007991  ...   76848.864659  103451.254613   \n",
              "min           0.000000     136.785058  ...      49.205164      28.399874   \n",
              "25%        7408.050271   11701.482987  ...   13682.455773    5810.029329   \n",
              "50%       12047.091045   17329.275244  ...   18296.060748   10898.419572   \n",
              "75%       15110.066263   21525.518316  ...   22641.118315   21571.712343   \n",
              "max      208886.178863  243819.378525  ...  588603.895041  951927.365324   \n",
              "\n",
              "       dSecureBuilding  dTrainStation    dUniversity  departamento_id  \\\n",
              "count    191075.000000  191075.000000  191075.000000    191075.000000   \n",
              "mean       1772.236922    2423.202992    2724.466096     13074.278409   \n",
              "std        4371.583958    6543.795778    6542.331517     24000.129378   \n",
              "min           6.778779       7.822090       1.975269      2007.000000   \n",
              "25%         630.357228     871.282280     572.923803      2084.000000   \n",
              "50%        1013.661224    1486.916426    1189.704686      6270.000000   \n",
              "75%        1548.304578    2326.467372    2334.751078      6756.000000   \n",
              "max      128069.736867  145539.833034  193012.286019     90119.000000   \n",
              "\n",
              "        municipio_id   provincia_id       dSubway     nearestM2  \n",
              "count   87540.000000  191075.000000  85473.000000  1.910750e+05  \n",
              "mean   117924.817443      12.818391   1062.836822  1.898096e+03  \n",
              "std    178406.661843      24.048536   1042.637496  2.273743e-13  \n",
              "min     60028.000000       2.000000      2.482115  1.898096e+03  \n",
              "25%     60427.000000       2.000000    381.303562  1.898096e+03  \n",
              "50%     60638.000000       6.000000    713.383245  1.898096e+03  \n",
              "75%     60805.000000       6.000000   1316.965813  1.898096e+03  \n",
              "max    908644.000000      90.000000   7035.899830  1.898096e+03  \n",
              "\n",
              "[8 rows x 23 columns]"
            ],
            "text/html": [
              "<div>\n",
              "<style scoped>\n",
              "    .dataframe tbody tr th:only-of-type {\n",
              "        vertical-align: middle;\n",
              "    }\n",
              "\n",
              "    .dataframe tbody tr th {\n",
              "        vertical-align: top;\n",
              "    }\n",
              "\n",
              "    .dataframe thead th {\n",
              "        text-align: right;\n",
              "    }\n",
              "</style>\n",
              "<table border=\"1\" class=\"dataframe\">\n",
              "  <thead>\n",
              "    <tr style=\"text-align: right;\">\n",
              "      <th></th>\n",
              "      <th>Unnamed: 0</th>\n",
              "      <th>lat</th>\n",
              "      <th>lon</th>\n",
              "      <th>rooms</th>\n",
              "      <th>surface_total</th>\n",
              "      <th>surface_covered</th>\n",
              "      <th>price</th>\n",
              "      <th>dRailway</th>\n",
              "      <th>dIndustrialArea</th>\n",
              "      <th>dAirport</th>\n",
              "      <th>...</th>\n",
              "      <th>dPenitentiary</th>\n",
              "      <th>dPort</th>\n",
              "      <th>dSecureBuilding</th>\n",
              "      <th>dTrainStation</th>\n",
              "      <th>dUniversity</th>\n",
              "      <th>departamento_id</th>\n",
              "      <th>municipio_id</th>\n",
              "      <th>provincia_id</th>\n",
              "      <th>dSubway</th>\n",
              "      <th>nearestM2</th>\n",
              "    </tr>\n",
              "  </thead>\n",
              "  <tbody>\n",
              "    <tr>\n",
              "      <th>count</th>\n",
              "      <td>191075.000000</td>\n",
              "      <td>191075.000000</td>\n",
              "      <td>191075.000000</td>\n",
              "      <td>191075.000000</td>\n",
              "      <td>191075.000000</td>\n",
              "      <td>191075.00000</td>\n",
              "      <td>191075.000000</td>\n",
              "      <td>191075.000000</td>\n",
              "      <td>191075.000000</td>\n",
              "      <td>191075.000000</td>\n",
              "      <td>...</td>\n",
              "      <td>191075.000000</td>\n",
              "      <td>191075.000000</td>\n",
              "      <td>191075.000000</td>\n",
              "      <td>191075.000000</td>\n",
              "      <td>191075.000000</td>\n",
              "      <td>191075.000000</td>\n",
              "      <td>87540.000000</td>\n",
              "      <td>191075.000000</td>\n",
              "      <td>85473.000000</td>\n",
              "      <td>1.910750e+05</td>\n",
              "    </tr>\n",
              "    <tr>\n",
              "      <th>mean</th>\n",
              "      <td>103435.758817</td>\n",
              "      <td>-34.430859</td>\n",
              "      <td>-59.033315</td>\n",
              "      <td>2.953400</td>\n",
              "      <td>116.742410</td>\n",
              "      <td>88.05277</td>\n",
              "      <td>174010.598320</td>\n",
              "      <td>1918.942947</td>\n",
              "      <td>13270.694058</td>\n",
              "      <td>17798.754069</td>\n",
              "      <td>...</td>\n",
              "      <td>33458.442153</td>\n",
              "      <td>36191.113749</td>\n",
              "      <td>1772.236922</td>\n",
              "      <td>2423.202992</td>\n",
              "      <td>2724.466096</td>\n",
              "      <td>13074.278409</td>\n",
              "      <td>117924.817443</td>\n",
              "      <td>12.818391</td>\n",
              "      <td>1062.836822</td>\n",
              "      <td>1.898096e+03</td>\n",
              "    </tr>\n",
              "    <tr>\n",
              "      <th>std</th>\n",
              "      <td>59680.673173</td>\n",
              "      <td>1.229128</td>\n",
              "      <td>1.835340</td>\n",
              "      <td>1.489012</td>\n",
              "      <td>115.944604</td>\n",
              "      <td>63.31283</td>\n",
              "      <td>129323.154607</td>\n",
              "      <td>6859.487059</td>\n",
              "      <td>16947.894318</td>\n",
              "      <td>11335.007991</td>\n",
              "      <td>...</td>\n",
              "      <td>76848.864659</td>\n",
              "      <td>103451.254613</td>\n",
              "      <td>4371.583958</td>\n",
              "      <td>6543.795778</td>\n",
              "      <td>6542.331517</td>\n",
              "      <td>24000.129378</td>\n",
              "      <td>178406.661843</td>\n",
              "      <td>24.048536</td>\n",
              "      <td>1042.637496</td>\n",
              "      <td>2.273743e-13</td>\n",
              "    </tr>\n",
              "    <tr>\n",
              "      <th>min</th>\n",
              "      <td>1.000000</td>\n",
              "      <td>-41.986706</td>\n",
              "      <td>-71.686300</td>\n",
              "      <td>1.000000</td>\n",
              "      <td>20.000000</td>\n",
              "      <td>11.00000</td>\n",
              "      <td>10500.000000</td>\n",
              "      <td>0.011708</td>\n",
              "      <td>0.000000</td>\n",
              "      <td>136.785058</td>\n",
              "      <td>...</td>\n",
              "      <td>49.205164</td>\n",
              "      <td>28.399874</td>\n",
              "      <td>6.778779</td>\n",
              "      <td>7.822090</td>\n",
              "      <td>1.975269</td>\n",
              "      <td>2007.000000</td>\n",
              "      <td>60028.000000</td>\n",
              "      <td>2.000000</td>\n",
              "      <td>2.482115</td>\n",
              "      <td>1.898096e+03</td>\n",
              "    </tr>\n",
              "    <tr>\n",
              "      <th>25%</th>\n",
              "      <td>51742.500000</td>\n",
              "      <td>-34.630100</td>\n",
              "      <td>-58.649794</td>\n",
              "      <td>2.000000</td>\n",
              "      <td>50.000000</td>\n",
              "      <td>44.00000</td>\n",
              "      <td>85000.000000</td>\n",
              "      <td>451.873150</td>\n",
              "      <td>7408.050271</td>\n",
              "      <td>11701.482987</td>\n",
              "      <td>...</td>\n",
              "      <td>13682.455773</td>\n",
              "      <td>5810.029329</td>\n",
              "      <td>630.357228</td>\n",
              "      <td>871.282280</td>\n",
              "      <td>572.923803</td>\n",
              "      <td>2084.000000</td>\n",
              "      <td>60427.000000</td>\n",
              "      <td>2.000000</td>\n",
              "      <td>381.303562</td>\n",
              "      <td>1.898096e+03</td>\n",
              "    </tr>\n",
              "    <tr>\n",
              "      <th>50%</th>\n",
              "      <td>103510.000000</td>\n",
              "      <td>-34.590028</td>\n",
              "      <td>-58.472648</td>\n",
              "      <td>3.000000</td>\n",
              "      <td>75.000000</td>\n",
              "      <td>66.00000</td>\n",
              "      <td>135000.000000</td>\n",
              "      <td>992.026127</td>\n",
              "      <td>12047.091045</td>\n",
              "      <td>17329.275244</td>\n",
              "      <td>...</td>\n",
              "      <td>18296.060748</td>\n",
              "      <td>10898.419572</td>\n",
              "      <td>1013.661224</td>\n",
              "      <td>1486.916426</td>\n",
              "      <td>1189.704686</td>\n",
              "      <td>6270.000000</td>\n",
              "      <td>60638.000000</td>\n",
              "      <td>6.000000</td>\n",
              "      <td>713.383245</td>\n",
              "      <td>1.898096e+03</td>\n",
              "    </tr>\n",
              "    <tr>\n",
              "      <th>75%</th>\n",
              "      <td>155114.500000</td>\n",
              "      <td>-34.499624</td>\n",
              "      <td>-58.414637</td>\n",
              "      <td>4.000000</td>\n",
              "      <td>138.000000</td>\n",
              "      <td>110.00000</td>\n",
              "      <td>220000.000000</td>\n",
              "      <td>1750.238150</td>\n",
              "      <td>15110.066263</td>\n",
              "      <td>21525.518316</td>\n",
              "      <td>...</td>\n",
              "      <td>22641.118315</td>\n",
              "      <td>21571.712343</td>\n",
              "      <td>1548.304578</td>\n",
              "      <td>2326.467372</td>\n",
              "      <td>2334.751078</td>\n",
              "      <td>6756.000000</td>\n",
              "      <td>60805.000000</td>\n",
              "      <td>6.000000</td>\n",
              "      <td>1316.965813</td>\n",
              "      <td>1.898096e+03</td>\n",
              "    </tr>\n",
              "    <tr>\n",
              "      <th>max</th>\n",
              "      <td>206751.000000</td>\n",
              "      <td>-24.659769</td>\n",
              "      <td>-55.874782</td>\n",
              "      <td>14.000000</td>\n",
              "      <td>955.000000</td>\n",
              "      <td>397.00000</td>\n",
              "      <td>791500.000000</td>\n",
              "      <td>191859.002829</td>\n",
              "      <td>208886.178863</td>\n",
              "      <td>243819.378525</td>\n",
              "      <td>...</td>\n",
              "      <td>588603.895041</td>\n",
              "      <td>951927.365324</td>\n",
              "      <td>128069.736867</td>\n",
              "      <td>145539.833034</td>\n",
              "      <td>193012.286019</td>\n",
              "      <td>90119.000000</td>\n",
              "      <td>908644.000000</td>\n",
              "      <td>90.000000</td>\n",
              "      <td>7035.899830</td>\n",
              "      <td>1.898096e+03</td>\n",
              "    </tr>\n",
              "  </tbody>\n",
              "</table>\n",
              "<p>8 rows × 23 columns</p>\n",
              "</div>"
            ]
          },
          "metadata": {},
          "execution_count": 95
        }
      ]
    },
    {
      "cell_type": "code",
      "source": [
        "propsDf['nearestM2']"
      ],
      "metadata": {
        "colab": {
          "base_uri": "https://localhost:8080/"
        },
        "id": "4gbYqK7bEc8B",
        "outputId": "0a5a2d23-dac3-47b6-900c-8ed7c74a580f"
      },
      "execution_count": 21,
      "outputs": [
        {
          "output_type": "execute_result",
          "data": {
            "text/plain": [
              "0         1898.095546\n",
              "1         1898.095546\n",
              "2         1898.095546\n",
              "3         1898.095546\n",
              "4         1898.095546\n",
              "             ...     \n",
              "191070    1898.095546\n",
              "191071    1898.095546\n",
              "191072    1898.095546\n",
              "191073    1898.095546\n",
              "191074    1898.095546\n",
              "Name: nearestM2, Length: 191075, dtype: float64"
            ]
          },
          "metadata": {},
          "execution_count": 21
        }
      ]
    },
    {
      "cell_type": "code",
      "source": [
        "propsDf.to_csv('Downloads/ubicar/dynamic/PostAlgoCasas_2.csv',index=False) #Despues con este se hace el entrenado del modelo."
      ],
      "metadata": {
        "id": "hsGROfacnMI6"
      },
      "execution_count": null,
      "outputs": []
    }
  ],
  "metadata": {
    "colab": {
      "name": "MaxiLocal - AlgoDynamic.ipynb",
      "provenance": [],
      "collapsed_sections": [],
      "include_colab_link": true
    },
    "kernelspec": {
      "display_name": "Python 3",
      "name": "python3"
    },
    "language_info": {
      "name": "python"
    }
  },
  "nbformat": 4,
  "nbformat_minor": 0
}